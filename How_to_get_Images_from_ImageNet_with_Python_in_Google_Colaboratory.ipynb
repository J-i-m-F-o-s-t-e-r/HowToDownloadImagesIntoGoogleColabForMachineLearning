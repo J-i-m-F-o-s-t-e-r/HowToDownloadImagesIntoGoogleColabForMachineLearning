{
  "nbformat": 4,
  "nbformat_minor": 0,
  "metadata": {
    "colab": {
      "name": "How to get Images from ImageNet with Python in Google Colaboratory.ipynb",
      "provenance": []
    },
    "kernelspec": {
      "name": "python3",
      "display_name": "Python 3"
    },
    "accelerator": "GPU"
  },
  "cells": [
    {
      "cell_type": "code",
      "metadata": {
        "id": "2ihabI0hUjuh",
        "colab_type": "code",
        "outputId": "9e57b807-41b0-48d7-b0e0-b710a4e351e7",
        "colab": {
          "base_uri": "https://localhost:8080/",
          "height": 54
        }
      },
      "source": [
        "#code part 1\n",
        "from bs4 import BeautifulSoup\n",
        "import numpy as np\n",
        "import requests\n",
        "import cv2\n",
        "import PIL.Image\n",
        "import urllib\n",
        "\n",
        "page = requests.get(\"http://www.image-net.org/api/text/imagenet.synset.geturls?wnid=n04194289\")#ship synset\n",
        "print(page.content)\n",
        "\n",
        "# BeautifulSoup is an HTML parsing library\n",
        "\n",
        "soup = BeautifulSoup(page.content, 'html.parser')#puts the content of the website into the soup variable, each url on a different line\n",
        "#print(soup)\n",
        "#print(soup.prettify())"
      ],
      "execution_count": 1,
      "outputs": [
        {
          "output_type": "stream",
          "text": [
            "b'\\n<!DOCTYPE html PUBLIC \"-//W3C//DTD HTML 4.01 Transitional//EN\"\\n   \"http://www.w3.org/TR/html4/loose.dtd\">\\n\\n<html lang=\"en\">\\n<head>\\n\\t<meta http-equiv=\"Content-Type\" content=\"text/html; charset=utf-8\">\\n\\n\\t<title>ImageNet</title>\\n  <script src=\"https://www.google.com/recaptcha/api.js\"></script>\\n<link rel=\"shortcut icon\" href=\"/favicon.ico\" />\\n<link rel=\"icon\" href=\"/favicon.png\" type=\"image/png\" />\\n\\n\\n    <!--JD-->\\n    <script type=\"text/javascript\" language=\"javascript\" src=\"/gpviewui/gpviewui.nocache.js\"></script>\\n\\t<link rel=\"stylesheet\" type=\"text/css\" href=\"/style.css\">\\n\\t<link type=\"text/css\" rel=\"stylesheet\" href=\"/GPViewUI.css\">\\n\\n</head>\\n\\n<body>\\n\\n<div id=\"wrap\">\\n\\t<div id=\"header\">\\n\\t\\t<div id=\"l\">\\n\\t\\t\\t<a href=\"./index\"><img src=\"/logo.png\" ></a>\\n\\t\\t</div>\\n\\t\\t<div id=\"m\">\\n\\t\\t\\t<!--search box-->\\n\\t\\t\\t<form action=\"search\" method=\"get\" id=\"search\">\\n   <input name=\"q\" type=\"text\" id=\"searchbox\" value=><input type=\"submit\" value=\"Search\" id=\"searchbutton\">\\n\\t\\t\\t</form>\\n   <div id=\"stats\"> 14,197,122 images, 21841 synsets indexed </div>\\n\\t\\t</div>\\n\\t\\t<div id=\"r\">\\n\\t\\t\\t<a href=\"/index\">Home</a><br>\\n\\t\\t\\t<a href=\"/about-overview\">About</a><br>\\n\\n                    <!--    <a href=\"#\">FAQ</a> -->\\n\\t\\t</div>\\n\\t\\t<div id=\"rr\">\\n\\t\\t\\t<a href=\"/explore\">Explore</a><br>\\n\\t\\t\\t<a href=\"/download.php\">Download</a>\\n\\n\\t\\t</div>\\n\\n\\t</div><!--/header-->\\n\\n\\n\\n               <div id=\"top\" >\\n                  <div id=\"topi\">\\n   Not logged in. <a href=\"login\">Login</a> | <a href=\"signup\">Signup</a>                  </div>\\n               </div>\\n\\n\\n\\t<div id=\"main\">\\n\\n\\t\\t<div class=\"roundedcornr_box_413229\">\\n\\t\\t   <div class=\"roundedcornr_top_413229\"><div></div></div>\\n\\t\\t      <div class=\"roundedcornr_content_413229\">\\n\\n<h3>\\nOops! \\n</h3>\\n\\n\\n\\n<br clear=\"all\">\\n<div class=\"hr\"></div>\\nThe URL is not valid.\\n\\n<br clear=\"all\">\\n\\n<p>\\n\\n\\t\\t      </div> \\n\\t\\t    <div class=\"roundedcornr_bottom_413229\"><div></div></div> \\n\\t\\t</div><!--/end rounded corner box-->\\n\\t</div><!--/main-->\\n\\t<div class=\"roundedcornr_box_823035\">\\n\\t   <div class=\"roundedcornr_top_823035\"><div></div></div>\\n\\t      <div class=\"roundedcornr_content_823035\">\\n\\t\\t       \\n<script type=\"text/javascript\"> function showemail(d,u)\\n{\\n  var email = u + \"@\" + d;\\n  document.write(\"<a href=mailto:\"+email+\">\"+email+\"</a>\");\\n}\\n</script>\\n<div id=\"footer\">\\n<p> &copy; 2016 <a href=\"http://vision.stanford.edu/\">Stanford Vision Lab, </a><a href=\"http://www.stanford.edu\">Stanford University</a>, <a href=\"http://www.princeton.edu\">Princeton University</a> &nbsp; <script type=\"text/javascript\">showemail(\\'image-net.org\\',\\'support\\')</script> &nbsp; &nbsp;<a href=\"http://www.princeton.edu/main/administration/legal_compliance/copyright/\">Copyright infringement</a> </p>\\n</div>\\n<!--footer-->\\n\\n\\t      </div>\\n\\t   <div class=\"roundedcornr_bottom_823035\"><div></div></div>\\n\\t</div><!--/end rounded corner box-->\\n\\n</div><!--/wrap-->\\n<script type=\"text/javascript\">\\n\\t\\t       var gaJsHost = ((\"https:\" == document.location.protocol) ? \"https://ssl.\" : \"http://www.\");\\ndocument.write(unescape(\"%3Cscript src=\\'\" + gaJsHost + \"google-analytics.com/ga.js\\' type=\\'text/javascript\\'%3E%3C/script%3E\"));\\n</script>\\n<script type=\"text/javascript\">\\n  try {\\n  var pageTracker = _gat._getTracker(\"UA-7472388-1\");\\n  pageTracker._trackPageview();\\n} catch(err) {}</script>\\n</body>\\n</html>\\n'\n"
          ],
          "name": "stdout"
        }
      ]
    },
    {
      "cell_type": "code",
      "metadata": {
        "id": "9RT0gP_5nlWv",
        "colab_type": "code",
        "outputId": "43858071-5ded-43e8-e1c4-3d4c9df5e87c",
        "colab": {
          "base_uri": "https://localhost:8080/",
          "height": 54
        }
      },
      "source": [
        "#code part 1.1\n",
        "bikes_page = requests.get(\"http://www.image-net.org/api/text/imagenet.synset.geturls?wnid=n02834778\")#bicycle synset\n",
        "print(bikes_page.content)\n",
        "\n",
        "# BeautifulSoup is an HTML parsing library\n",
        "from bs4 import BeautifulSoup\n",
        "bikes_soup = BeautifulSoup(bikes_page.content, 'html.parser')#puts the content of the website into the soup variable, each url on a different line"
      ],
      "execution_count": 2,
      "outputs": [
        {
          "output_type": "stream",
          "text": [
            "b'\\n<!DOCTYPE html PUBLIC \"-//W3C//DTD HTML 4.01 Transitional//EN\"\\n   \"http://www.w3.org/TR/html4/loose.dtd\">\\n\\n<html lang=\"en\">\\n<head>\\n\\t<meta http-equiv=\"Content-Type\" content=\"text/html; charset=utf-8\">\\n\\n\\t<title>ImageNet</title>\\n  <script src=\"https://www.google.com/recaptcha/api.js\"></script>\\n<link rel=\"shortcut icon\" href=\"/favicon.ico\" />\\n<link rel=\"icon\" href=\"/favicon.png\" type=\"image/png\" />\\n\\n\\n    <!--JD-->\\n    <script type=\"text/javascript\" language=\"javascript\" src=\"/gpviewui/gpviewui.nocache.js\"></script>\\n\\t<link rel=\"stylesheet\" type=\"text/css\" href=\"/style.css\">\\n\\t<link type=\"text/css\" rel=\"stylesheet\" href=\"/GPViewUI.css\">\\n\\n</head>\\n\\n<body>\\n\\n<div id=\"wrap\">\\n\\t<div id=\"header\">\\n\\t\\t<div id=\"l\">\\n\\t\\t\\t<a href=\"./index\"><img src=\"/logo.png\" ></a>\\n\\t\\t</div>\\n\\t\\t<div id=\"m\">\\n\\t\\t\\t<!--search box-->\\n\\t\\t\\t<form action=\"search\" method=\"get\" id=\"search\">\\n   <input name=\"q\" type=\"text\" id=\"searchbox\" value=><input type=\"submit\" value=\"Search\" id=\"searchbutton\">\\n\\t\\t\\t</form>\\n   <div id=\"stats\"> 14,197,122 images, 21841 synsets indexed </div>\\n\\t\\t</div>\\n\\t\\t<div id=\"r\">\\n\\t\\t\\t<a href=\"/index\">Home</a><br>\\n\\t\\t\\t<a href=\"/about-overview\">About</a><br>\\n\\n                    <!--    <a href=\"#\">FAQ</a> -->\\n\\t\\t</div>\\n\\t\\t<div id=\"rr\">\\n\\t\\t\\t<a href=\"/explore\">Explore</a><br>\\n\\t\\t\\t<a href=\"/download.php\">Download</a>\\n\\n\\t\\t</div>\\n\\n\\t</div><!--/header-->\\n\\n\\n\\n               <div id=\"top\" >\\n                  <div id=\"topi\">\\n   Not logged in. <a href=\"login\">Login</a> | <a href=\"signup\">Signup</a>                  </div>\\n               </div>\\n\\n\\n\\t<div id=\"main\">\\n\\n\\t\\t<div class=\"roundedcornr_box_413229\">\\n\\t\\t   <div class=\"roundedcornr_top_413229\"><div></div></div>\\n\\t\\t      <div class=\"roundedcornr_content_413229\">\\n\\n<h3>\\nOops! \\n</h3>\\n\\n\\n\\n<br clear=\"all\">\\n<div class=\"hr\"></div>\\nThe URL is not valid.\\n\\n<br clear=\"all\">\\n\\n<p>\\n\\n\\t\\t      </div> \\n\\t\\t    <div class=\"roundedcornr_bottom_413229\"><div></div></div> \\n\\t\\t</div><!--/end rounded corner box-->\\n\\t</div><!--/main-->\\n\\t<div class=\"roundedcornr_box_823035\">\\n\\t   <div class=\"roundedcornr_top_823035\"><div></div></div>\\n\\t      <div class=\"roundedcornr_content_823035\">\\n\\t\\t       \\n<script type=\"text/javascript\"> function showemail(d,u)\\n{\\n  var email = u + \"@\" + d;\\n  document.write(\"<a href=mailto:\"+email+\">\"+email+\"</a>\");\\n}\\n</script>\\n<div id=\"footer\">\\n<p> &copy; 2016 <a href=\"http://vision.stanford.edu/\">Stanford Vision Lab, </a><a href=\"http://www.stanford.edu\">Stanford University</a>, <a href=\"http://www.princeton.edu\">Princeton University</a> &nbsp; <script type=\"text/javascript\">showemail(\\'image-net.org\\',\\'support\\')</script> &nbsp; &nbsp;<a href=\"http://www.princeton.edu/main/administration/legal_compliance/copyright/\">Copyright infringement</a> </p>\\n</div>\\n<!--footer-->\\n\\n\\t      </div>\\n\\t   <div class=\"roundedcornr_bottom_823035\"><div></div></div>\\n\\t</div><!--/end rounded corner box-->\\n\\n</div><!--/wrap-->\\n<script type=\"text/javascript\">\\n\\t\\t       var gaJsHost = ((\"https:\" == document.location.protocol) ? \"https://ssl.\" : \"http://www.\");\\ndocument.write(unescape(\"%3Cscript src=\\'\" + gaJsHost + \"google-analytics.com/ga.js\\' type=\\'text/javascript\\'%3E%3C/script%3E\"));\\n</script>\\n<script type=\"text/javascript\">\\n  try {\\n  var pageTracker = _gat._getTracker(\"UA-7472388-1\");\\n  pageTracker._trackPageview();\\n} catch(err) {}</script>\\n</body>\\n</html>\\n'\n"
          ],
          "name": "stdout"
        }
      ]
    },
    {
      "cell_type": "code",
      "metadata": {
        "id": "T_2AMNyam_nD",
        "colab_type": "code",
        "outputId": "a0757a14-d919-4312-b670-5ffef74341ad",
        "colab": {
          "base_uri": "https://localhost:8080/",
          "height": 34
        }
      },
      "source": [
        "#code part 2\n",
        "str_soup=str(soup)#convert soup to string so it can be split\n",
        "type(str_soup)\n",
        "split_urls=str_soup.split('\\r\\n')#split so each url is a different possition on a list\n",
        "print(len(split_urls))#print the length of the list so you know how many urls you have"
      ],
      "execution_count": 3,
      "outputs": [
        {
          "output_type": "stream",
          "text": [
            "1\n"
          ],
          "name": "stdout"
        }
      ]
    },
    {
      "cell_type": "code",
      "metadata": {
        "id": "vVPl9aGooPC9",
        "colab_type": "code",
        "outputId": "8acb5e58-cdbd-4877-861a-62c31fb22bda",
        "colab": {
          "base_uri": "https://localhost:8080/",
          "height": 34
        }
      },
      "source": [
        "#code part 2.2\n",
        "bikes_str_soup=str(bikes_soup)#convert soup to string so it can be split\n",
        "type(bikes_str_soup)\n",
        "bikes_split_urls=bikes_str_soup.split('\\r\\n')#split so each url is a different possition on a list\n",
        "print(len(bikes_split_urls))"
      ],
      "execution_count": 8,
      "outputs": [
        {
          "output_type": "stream",
          "text": [
            "1\n"
          ],
          "name": "stdout"
        }
      ]
    },
    {
      "cell_type": "code",
      "metadata": {
        "id": "mh1OY8SUxgu0",
        "colab_type": "code",
        "colab": {}
      },
      "source": [
        "#code part 3\n",
        "#check if all the images where stored on the files system\n",
        "!mkdir /content/train #create the Train folder\n",
        "!mkdir /content/train/ships #create the ships folder\n",
        "!mkdir /content/train/bikes #create the bikes folder\n",
        "!mkdir /content/validation\n",
        "!mkdir /content/validation/ships #create the ships folder\n",
        "!mkdir /content/validation/bikes #create the bikes folder\n",
        "#!ls /content/train/ships #list the files inside ships\n",
        "\n"
      ],
      "execution_count": 0,
      "outputs": []
    },
    {
      "cell_type": "code",
      "metadata": {
        "id": "IfvdvHYElJdS",
        "colab_type": "code",
        "outputId": "8be988f1-4815-45e9-8575-465970f86e50",
        "colab": {
          "base_uri": "https://localhost:8080/",
          "height": 595
        }
      },
      "source": [
        "#code part 4\n",
        "img_rows, img_cols = 32, 32 #number of rows and columns to convert the images to\n",
        "input_shape = (img_rows, img_cols, 3)#format to store the images (rows, columns,channels) called channels last\n",
        "\n",
        "def url_to_image(url):\n",
        "\t# download the image, convert it to a NumPy array, and then read\n",
        "\t# it into OpenCV format\n",
        "\tresp = urllib.request.urlopen(url)\n",
        "\timage = np.asarray(bytearray(resp.read()), dtype=\"uint8\")\n",
        "\timage = cv2.imdecode(image, cv2.IMREAD_COLOR)\n",
        " \n",
        "\t# return the image\n",
        "\treturn image\n",
        "\n",
        "n_of_training_images=100#the number of training images to use\n",
        "for progress in range(n_of_training_images):#store all the images on a directory\n",
        "    # Print out progress whenever progress is a multiple of 20 so we can follow the\n",
        "    # (relatively slow) progress\n",
        "    if(progress%20==0):\n",
        "        print(progress)\n",
        "    if not split_urls[progress] == None:\n",
        "      try:\n",
        "        I = url_to_image(split_urls[progress])\n",
        "        if (len(I.shape))==3: #check if the image has width, length and channels\n",
        "          save_path = '/content/train/ships/img'+str(progress)+'.jpg'#create a name of each image\n",
        "          cv2.imwrite(save_path,I)\n",
        "\n",
        "      except:\n",
        "        None\n",
        "\n",
        "#do the same for bikes:\n",
        "for progress in range(n_of_training_images):#store all the images on a directory\n",
        "    # Print out progress whenever progress is a multiple of 20 so we can follow the\n",
        "    # (relatively slow) progress\n",
        "    if(progress%20==0):\n",
        "        print(progress)\n",
        "    if not bikes_split_urls[progress] == None:\n",
        "      try:\n",
        "        I = url_to_image(bikes_split_urls[progress])\n",
        "        if (len(I.shape))==3: #check if the image has width, length and channels\n",
        "          save_path = '/content/train/bikes/img'+str(progress)+'.jpg'#create a name of each image\n",
        "          cv2.imwrite(save_path,I)\n",
        "\n",
        "      except:\n",
        "        None\n",
        "        \n",
        "        \n",
        "#Validation data:\n",
        "\n",
        "for progress in range(50):#store all the images on a directory\n",
        "    # Print out progress whenever progress is a multiple of 20 so we can follow the\n",
        "    # (relatively slow) progress\n",
        "    if(progress%20==0):\n",
        "        print(progress)\n",
        "    if not split_urls[progress] == None:\n",
        "      try:\n",
        "        I = url_to_image(split_urls[n_of_training_images+progress])#get images that are different from the ones used for training\n",
        "        if (len(I.shape))==3: #check if the image has width, length and channels\n",
        "          save_path = '/content/validation/ships/img'+str(progress)+'.jpg'#create a name of each image\n",
        "          cv2.imwrite(save_path,I)\n",
        "\n",
        "      except:\n",
        "        None\n",
        "\n",
        "#do the same for bikes:\n",
        "for progress in range(50):#store all the images on a directory\n",
        "    # Print out progress whenever progress is a multiple of 20 so we can follow the\n",
        "    # (relatively slow) progress\n",
        "    if(progress%20==0):\n",
        "        print(progress)\n",
        "    if not bikes_split_urls[progress] == None:\n",
        "      try:\n",
        "        I = url_to_image(bikes_split_urls[n_of_training_images+progress])#get images that are different from the ones used for training\n",
        "        if (len(I.shape))==3: #check if the image has width, length and channels\n",
        "          save_path = '/content/validation/bikes/img'+str(progress)+'.jpg'#create a name of each image\n",
        "          cv2.imwrite(save_path,I)\n",
        "\n",
        "      except:\n",
        "        None\n",
        "        \n",
        "print(\"\\nTRAIN:\\n\")          \n",
        "print(\"\\nlist the files inside ships directory:\\n\")        \n",
        "!ls /content/train/ships #list the files inside ships\n",
        "print(\"\\nlist the files inside bikes directory:\\n\")\n",
        "!ls /content/train/bikes #list the files inside bikes\n",
        "print(\"\\nVALIDATION:\\n\")\n",
        "print(\"\\nlist the files inside ships directory:\\n\")        \n",
        "!ls /content/validation/ships #list the files inside ships\n",
        "print(\"\\nlist the files inside bikes directory:\\n\")\n",
        "!ls /content/validation/bikes #list the files inside bikes   "
      ],
      "execution_count": 12,
      "outputs": [
        {
          "output_type": "stream",
          "text": [
            "0\n",
            "20\n",
            "40\n",
            "60\n",
            "80\n",
            "0\n",
            "20\n",
            "40\n",
            "60\n",
            "80\n",
            "0\n",
            "20\n",
            "40\n",
            "0\n",
            "20\n",
            "40\n",
            "\n",
            "TRAIN:\n",
            "\n",
            "\n",
            "list the files inside ships directory:\n",
            "\n",
            "\n",
            "list the files inside bikes directory:\n",
            "\n",
            "\n",
            "VALIDATION:\n",
            "\n",
            "\n",
            "list the files inside ships directory:\n",
            "\n",
            "\n",
            "list the files inside bikes directory:\n",
            "\n"
          ],
          "name": "stdout"
        }
      ]
    }
  ]
}